{
  "cells": [
    {
      "cell_type": "markdown",
      "metadata": {
        "id": "view-in-github",
        "colab_type": "text"
      },
      "source": [
        "<a href=\"https://colab.research.google.com/github/beongyoung/Map/blob/master/Data_Analyst.ipynb\" target=\"_parent\"><img src=\"https://colab.research.google.com/assets/colab-badge.svg\" alt=\"Open In Colab\"/></a>"
      ]
    },
    {
      "cell_type": "markdown",
      "source": [
        "# 2023.11.09(Thu)"
      ],
      "metadata": {
        "id": "_xdlbtLDf6t3"
      }
    },
    {
      "cell_type": "markdown",
      "source": [
        "1. 전처리 기법 설명\n",
        "  - t-test, 윌콕슨 순위합 검정\n",
        "  - 상관계수\n",
        "2. 모델링 설명\n",
        "  - SVM\n",
        "  - XGboost, Adaboost, Light GBM\n",
        "  - k-NN\n",
        "3. 모델 성능 지표\n",
        "  - 분류모델 : confusion matrix, Precision, Recall, Accuracy, ROC-AUC\n",
        "  - 회귀모델 : R Square, MAE, MSE, RMSE\n",
        "4. Iris 데이터 실습 (전처리, 모델링)"
      ],
      "metadata": {
        "id": "KayUg1bvgFWP"
      }
    },
    {
      "cell_type": "markdown",
      "source": [
        "# 1. 전처리 기법"
      ],
      "metadata": {
        "id": "vaYFefaChHiO"
      }
    },
    {
      "cell_type": "markdown",
      "source": [
        "### t-test, 윌콕슨 순위합검정"
      ],
      "metadata": {
        "id": "wmpOK0yBhkJo"
      }
    },
    {
      "cell_type": "markdown",
      "source": [
        "1. 정규성 분포 : 실제 데이터에서 정규분포인 경우가 없다\n",
        "  - p-Value < 0.05 -> 정규성\n",
        "2. 평균 차이 검정 : t-test, 윌콕슨 순위합검정\n",
        "3. 상관계수 : 피어슨, 스피어만"
      ],
      "metadata": {
        "id": "zZVjUg1JirP0"
      }
    },
    {
      "cell_type": "markdown",
      "source": [
        "### 상관계수"
      ],
      "metadata": {
        "id": "BLpEhE2vhZ-R"
      }
    },
    {
      "cell_type": "markdown",
      "source": [
        "1. p-Value < 0.05 : 유의하다\n",
        "2. p-Value > 0.05 : 유의하지 않다"
      ],
      "metadata": {
        "id": "NmMIccsVllSq"
      }
    },
    {
      "cell_type": "markdown",
      "source": [
        "# 2. 모델링"
      ],
      "metadata": {
        "id": "oaQY7MwHhKn4"
      }
    },
    {
      "cell_type": "markdown",
      "source": [
        "### Tree 계열"
      ],
      "metadata": {
        "id": "Wn1Qxs0bmZjx"
      }
    },
    {
      "cell_type": "markdown",
      "source": [
        "1. Random Forest\n",
        "2. AdaBoost\n",
        "3. XGBoost > Light BGM"
      ],
      "metadata": {
        "id": "hpyAEmxOmdOR"
      }
    },
    {
      "cell_type": "markdown",
      "source": [
        "### SVM"
      ],
      "metadata": {
        "id": "n1ZN1jt_h-Rm"
      }
    },
    {
      "cell_type": "markdown",
      "source": [
        "  - 학습 오래걸림\n",
        "  - 가정할게 많음"
      ],
      "metadata": {
        "id": "NxaQ7bPWnQti"
      }
    },
    {
      "cell_type": "markdown",
      "source": [
        "### XGBoost, Adaboost, Light GBM"
      ],
      "metadata": {
        "id": "A73Q2mQeh9Sg"
      }
    },
    {
      "cell_type": "markdown",
      "source": [
        "### K-NN"
      ],
      "metadata": {
        "id": "MKgO9f-jh58n"
      }
    },
    {
      "cell_type": "markdown",
      "source": [
        "# 3. 모델 성능 지표"
      ],
      "metadata": {
        "id": "cO2F8nFghNP6"
      }
    },
    {
      "cell_type": "markdown",
      "source": [
        "### 분류모델"
      ],
      "metadata": {
        "id": "3igM0xaNiJoT"
      }
    },
    {
      "cell_type": "markdown",
      "source": [
        "### 회기모델"
      ],
      "metadata": {
        "id": "XV4Vy5hbiJXV"
      }
    }
  ],
  "metadata": {
    "colab": {
      "toc_visible": true,
      "provenance": [],
      "include_colab_link": true
    },
    "kernelspec": {
      "display_name": "Python 3",
      "name": "python3"
    }
  },
  "nbformat": 4,
  "nbformat_minor": 0
}